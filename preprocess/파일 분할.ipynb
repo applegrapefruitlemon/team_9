{
 "cells": [
  {
   "cell_type": "code",
   "execution_count": 14,
   "id": "6bfb50d3-64e7-4813-bc78-de8527f27310",
   "metadata": {},
   "outputs": [
    {
     "data": {
      "text/plain": [
       "Index(['Unnamed: 0', 'train_subway23.tm', 'train_subway23.line',\n",
       "       'train_subway23.station_number', 'train_subway23.station_name',\n",
       "       'train_subway23.direction', 'train_subway23.stn', 'train_subway23.ta',\n",
       "       'train_subway23.wd', 'train_subway23.ws', 'train_subway23.rn_day',\n",
       "       'train_subway23.rn_hr1', 'train_subway23.hm', 'train_subway23.si',\n",
       "       'train_subway23.ta_chi', 'train_subway23.congestion'],\n",
       "      dtype='object')"
      ]
     },
     "execution_count": 14,
     "metadata": {},
     "output_type": "execute_result"
    }
   ],
   "source": [
    "df.columns"
   ]
  },
  {
   "cell_type": "code",
   "execution_count": 12,
   "id": "c1c02aca-bc8e-4bae-8ae3-01b4afcd6788",
   "metadata": {},
   "outputs": [],
   "source": [
    "import pandas as pd\n",
    "df=pd.read_csv('train_subway23.csv',encoding='utf-8')\n",
    "df.to_csv(\"train_subway23.csv\", index = False, encoding=\"utf-8-sig\")\n"
   ]
  },
  {
   "cell_type": "code",
   "execution_count": 18,
   "id": "deb7e29c-c4a3-4842-aba0-ba7de90dc92c",
   "metadata": {},
   "outputs": [],
   "source": [
    "def slash(df):\n",
    "    # 1. datetime_col을 문자열로 변환 후 datetime 타입으로 변환\n",
    "    df['datetime'] = pd.to_datetime(df[f'train_subway{year}.tm'].astype(str), format='%Y%m%d%H')\n",
    "    \n",
    "    # 2. 연도, 월, 일, 시간 컬럼 분해 추가\n",
    "    df['year'] = df['datetime'].dt.year\n",
    "    df['month'] = df['datetime'].dt.month\n",
    "    df['day'] = df['datetime'].dt.day\n",
    "    df['hour'] = df['datetime'].dt.hour\n",
    "    \n",
    "    # 3. 'year_month' 기준으로 그룹화\n",
    "    df['year_month'] = df['datetime'].dt.to_period('M').astype(str)\n",
    "    df = df.drop('datetime', axis=1)\n",
    "    # 4. 월별로 CSV 저장\n",
    "    for ym, group in df.groupby('year_month'):\n",
    "        filename = f\"subway{ym}.csv\"\n",
    "        group.drop(columns=['year_month']).to_csv(filename, index=False, encoding=\"utf-8-sig\")\n",
    "        print(f\"{filename} 저장 완료.\")"
   ]
  },
  {
   "cell_type": "code",
   "execution_count": 20,
   "id": "9ff8a508-f748-47d7-a7ff-b1d916dbbc29",
   "metadata": {},
   "outputs": [
    {
     "name": "stdout",
     "output_type": "stream",
     "text": [
      "subway2021-01.csv 저장 완료.\n",
      "subway2021-02.csv 저장 완료.\n",
      "subway2021-03.csv 저장 완료.\n",
      "subway2021-04.csv 저장 완료.\n",
      "subway2021-05.csv 저장 완료.\n",
      "subway2021-06.csv 저장 완료.\n",
      "subway2021-07.csv 저장 완료.\n",
      "subway2021-08.csv 저장 완료.\n",
      "subway2021-09.csv 저장 완료.\n",
      "subway2021-10.csv 저장 완료.\n",
      "subway2021-11.csv 저장 완료.\n",
      "subway2021-12.csv 저장 완료.\n",
      "subway2022-01.csv 저장 완료.\n",
      "subway2022-02.csv 저장 완료.\n",
      "subway2022-03.csv 저장 완료.\n",
      "subway2022-04.csv 저장 완료.\n",
      "subway2022-05.csv 저장 완료.\n",
      "subway2022-06.csv 저장 완료.\n",
      "subway2022-07.csv 저장 완료.\n",
      "subway2022-08.csv 저장 완료.\n",
      "subway2022-09.csv 저장 완료.\n",
      "subway2022-10.csv 저장 완료.\n",
      "subway2022-11.csv 저장 완료.\n",
      "subway2022-12.csv 저장 완료.\n",
      "subway2023-01.csv 저장 완료.\n",
      "subway2023-02.csv 저장 완료.\n",
      "subway2023-03.csv 저장 완료.\n",
      "subway2023-04.csv 저장 완료.\n",
      "subway2023-05.csv 저장 완료.\n",
      "subway2023-06.csv 저장 완료.\n",
      "subway2023-07.csv 저장 완료.\n",
      "subway2023-08.csv 저장 완료.\n",
      "subway2023-09.csv 저장 완료.\n",
      "subway2023-10.csv 저장 완료.\n",
      "subway2023-11.csv 저장 완료.\n",
      "subway2023-12.csv 저장 완료.\n"
     ]
    }
   ],
   "source": [
    "for year in ['21','22','23']:\n",
    "    df=pd.read_csv(f'train_subway{year}.csv',encoding='utf-8')\n",
    "    df = df.drop('Unnamed: 0', axis=1)\n",
    "    slash(df)  \n",
    "\n"
   ]
  },
  {
   "cell_type": "code",
   "execution_count": null,
   "id": "91724640-afc4-4242-a43a-c1f400fc8326",
   "metadata": {},
   "outputs": [],
   "source": []
  }
 ],
 "metadata": {
  "kernelspec": {
   "display_name": "Python [conda env:base] *",
   "language": "python",
   "name": "conda-base-py"
  },
  "language_info": {
   "codemirror_mode": {
    "name": "ipython",
    "version": 3
   },
   "file_extension": ".py",
   "mimetype": "text/x-python",
   "name": "python",
   "nbconvert_exporter": "python",
   "pygments_lexer": "ipython3",
   "version": "3.12.7"
  }
 },
 "nbformat": 4,
 "nbformat_minor": 5
}
