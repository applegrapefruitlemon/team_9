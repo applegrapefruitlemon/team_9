{
 "cells": [
  {
   "cell_type": "code",
   "execution_count": 1,
   "id": "062f81d0-686f-49b9-83ec-86e56858daf8",
   "metadata": {},
   "outputs": [],
   "source": [
    "import pandas as pd\n",
    "import numpy as np"
   ]
  },
  {
   "cell_type": "code",
   "execution_count": 2,
   "id": "9e62f8fd-439c-4a9a-9529-ced84db8c23d",
   "metadata": {},
   "outputs": [],
   "source": [
    "df = pd.read_csv(\"total_지하철_혼잡도_계절별_시간대별_강수상태별_분석.csv\")\n",
    "# df"
   ]
  },
  {
   "cell_type": "code",
   "execution_count": 3,
   "id": "82c9909e-36b0-4d9e-985b-977a739a3c94",
   "metadata": {},
   "outputs": [],
   "source": [
    "# 0. 시간대 숫자형 변환\n",
    "df['시간대'] = df['시간대'].str.extract(r'(\\d+)').astype(int)"
   ]
  },
  {
   "cell_type": "code",
   "execution_count": 4,
   "id": "53190df9-dd81-47b7-ac1f-b8f682dca80f",
   "metadata": {},
   "outputs": [],
   "source": [
    "# 1. 출퇴근 시간대 라벨링 함수 정의\n",
    "def commute_label(hour):\n",
    "    if 6 <= hour <= 9:\n",
    "        return '출근'\n",
    "    elif 17 <= hour <= 20:\n",
    "        return '퇴근'\n",
    "    else:\n",
    "        return None\n",
    "\n",
    "# 2. 출퇴근 시간대 컬럼 생성\n",
    "df['출퇴근시간'] = df['시간대'].apply(commute_label)"
   ]
  },
  {
   "cell_type": "code",
   "execution_count": 5,
   "id": "4c9372fd-7361-47a8-912a-67b70e7b38a3",
   "metadata": {},
   "outputs": [],
   "source": [
    "# 3. 출퇴근 시간대 데이터만 필터링\n",
    "commute_df = df[df['출퇴근시간'].isin(['출근', '퇴근'])]"
   ]
  },
  {
   "cell_type": "code",
   "execution_count": 6,
   "id": "8b3f4a19-2bbc-430a-af26-e969f1391666",
   "metadata": {},
   "outputs": [],
   "source": [
    "# 4. 그룹별 혼잡도 평균 계산 (출퇴근을 하나의 컬럼으로 유지)\n",
    "grouped = commute_df.groupby(\n",
    "    ['계절', '호선', '상하구분', '시간강수량_상태', '출퇴근시간']\n",
    ")['혼잡도'].mean().reset_index()"
   ]
  },
  {
   "cell_type": "code",
   "execution_count": 7,
   "id": "a722078d-3ef7-469b-bd98-6417447d2b0e",
   "metadata": {},
   "outputs": [],
   "source": [
    "# 5. NaN이 있을 경우 0으로 처리\n",
    "grouped['혼잡도'] = grouped['혼잡도'].fillna(0)"
   ]
  },
  {
   "cell_type": "code",
   "execution_count": 8,
   "id": "a3efdeb5-e27f-4088-b814-757569b5b0a1",
   "metadata": {},
   "outputs": [
    {
     "name": "stdout",
     "output_type": "stream",
     "text": [
      "출퇴근시간\n",
      "퇴근    248\n",
      "출근    238\n",
      "Name: count, dtype: int64\n",
      "   계절  호선 상하구분   시간강수량_상태 출퇴근시간        혼잡도\n",
      "0  가을   1   상선     강수량 없음    출근  22.290690\n",
      "1  가을   1   상선     강수량 없음    퇴근  22.325899\n",
      "2  가을   1   상선  강한 비 or 눈    출근  32.402439\n",
      "3  가을   1   상선  강한 비 or 눈    퇴근  18.835616\n",
      "4  가을   1   상선  보통 비 or 눈    출근  20.078146\n"
     ]
    }
   ],
   "source": [
    "# 6. 확인용 출력\n",
    "print(grouped['출퇴근시간'].value_counts(dropna=False))\n",
    "print(grouped.head())"
   ]
  },
  {
   "cell_type": "code",
   "execution_count": 9,
   "id": "abb38112-0b8c-45d8-b6df-2acb068ac18f",
   "metadata": {},
   "outputs": [],
   "source": [
    "# 7. CSV로 저장 (출근/퇴근을 컬럼이 아닌 **행으로** 유지)\n",
    "grouped.to_csv('출퇴근_혼잡도.csv', index=False, encoding='utf-8-sig')"
   ]
  }
 ],
 "metadata": {
  "kernelspec": {
   "display_name": "Python [conda env:base] *",
   "language": "python",
   "name": "conda-base-py"
  },
  "language_info": {
   "codemirror_mode": {
    "name": "ipython",
    "version": 3
   },
   "file_extension": ".py",
   "mimetype": "text/x-python",
   "name": "python",
   "nbconvert_exporter": "python",
   "pygments_lexer": "ipython3",
   "version": "3.12.7"
  }
 },
 "nbformat": 4,
 "nbformat_minor": 5
}
